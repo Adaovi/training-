{
 "cells": [
  {
   "cell_type": "markdown",
   "id": "29d5de6a-d65a-420f-ba0a-60414181dc5e",
   "metadata": {},
   "source": [
    "## Package / Library"
   ]
  },
  {
   "cell_type": "markdown",
   "id": "98637452-eed2-4d66-8688-a3967ffb2213",
   "metadata": {},
   "source": [
    "- collection of methods/functions - Library\n",
    "- collection of methods/functions in a standard way - Package"
   ]
  },
  {
   "cell_type": "markdown",
   "id": "4a82bf35-aaea-4970-a28e-91144fba2108",
   "metadata": {},
   "source": [
    "## Framework"
   ]
  },
  {
   "cell_type": "markdown",
   "id": "fc2d1fec-d0c9-4721-ad94-891fc83a87d9",
   "metadata": {},
   "source": [
    "- collection of packages/library\n",
    "- Django - web development, Flask"
   ]
  },
  {
   "cell_type": "markdown",
   "id": "0cb42a57-9ff5-470b-a901-240eec8f9ce2",
   "metadata": {},
   "source": [
    "## Pip"
   ]
  },
  {
   "cell_type": "markdown",
   "id": "18d5f05e-df45-48de-80cd-08289201d979",
   "metadata": {},
   "source": [
    "- helps you to download the packages from the internet\n",
    "- Python package manager\n",
    "- pip install <package-name>"
   ]
  },
  {
   "cell_type": "markdown",
   "id": "e6de7ef3-a5e6-4903-8c03-af984f66da48",
   "metadata": {},
   "source": [
    "## Pandas"
   ]
  },
  {
   "cell_type": "markdown",
   "id": "1ccc6b04-84dd-4688-8391-61ce8f951544",
   "metadata": {},
   "source": [
    "- Data Analysis / Data Manipulation\n",
    "- Simple charts\n",
    "- Series\n",
    "- Dataframe"
   ]
  },
  {
   "cell_type": "code",
   "execution_count": 2,
   "id": "de0c59a4-b5b2-4d9f-a680-6d6ead1aeb1f",
   "metadata": {},
   "outputs": [
    {
     "name": "stdout",
     "output_type": "stream",
     "text": [
      "Requirement already satisfied: pandas in /Library/Frameworks/Python.framework/Versions/3.11/lib/python3.11/site-packages (1.5.3)\n",
      "Requirement already satisfied: python-dateutil>=2.8.1 in /Library/Frameworks/Python.framework/Versions/3.11/lib/python3.11/site-packages (from pandas) (2.8.2)\n",
      "Requirement already satisfied: pytz>=2020.1 in /Library/Frameworks/Python.framework/Versions/3.11/lib/python3.11/site-packages (from pandas) (2023.3.post1)\n",
      "Requirement already satisfied: numpy>=1.21.0 in /Library/Frameworks/Python.framework/Versions/3.11/lib/python3.11/site-packages (from pandas) (1.24.2)\n",
      "Requirement already satisfied: six>=1.5 in /Library/Frameworks/Python.framework/Versions/3.11/lib/python3.11/site-packages (from python-dateutil>=2.8.1->pandas) (1.12.0)\n",
      "\u001b[33mDEPRECATION: textract 1.6.5 has a non-standard dependency specifier extract-msg<=0.29.*. pip 24.0 will enforce this behaviour change. A possible replacement is to upgrade to a newer version of textract or contact the author to suggest that they release a version with a conforming dependency specifiers. Discussion can be found at https://github.com/pypa/pip/issues/12063\u001b[0m\u001b[33m\n",
      "\u001b[0m\n",
      "\u001b[1m[\u001b[0m\u001b[34;49mnotice\u001b[0m\u001b[1;39;49m]\u001b[0m\u001b[39;49m A new release of pip is available: \u001b[0m\u001b[31;49m23.3.1\u001b[0m\u001b[39;49m -> \u001b[0m\u001b[32;49m24.0\u001b[0m\n",
      "\u001b[1m[\u001b[0m\u001b[34;49mnotice\u001b[0m\u001b[1;39;49m]\u001b[0m\u001b[39;49m To update, run: \u001b[0m\u001b[32;49mpip install --upgrade pip\u001b[0m\n",
      "Note: you may need to restart the kernel to use updated packages.\n"
     ]
    }
   ],
   "source": [
    "pip install pandas"
   ]
  },
  {
   "cell_type": "markdown",
   "id": "8dec38c6-052a-4302-836c-c1cba584927c",
   "metadata": {},
   "source": [
    "## Numpy"
   ]
  },
  {
   "cell_type": "markdown",
   "id": "b50e0de9-97f7-48eb-81cb-8e206d68084a",
   "metadata": {},
   "source": [
    "- Base for most of the libraries \n",
    "- Pandas is created on top of numpy\n",
    "- Scientific calculation / Numerical operations\n",
    "- Numerical Python\n",
    "- Numpy Array\n",
    "- Deep Learning"
   ]
  },
  {
   "cell_type": "markdown",
   "id": "97f0d34e-4897-47ea-b3b2-138b7046f4a7",
   "metadata": {},
   "source": [
    "## Matplotlib and Seaborn, Plotly"
   ]
  },
  {
   "cell_type": "markdown",
   "id": "63d688d3-66d9-4a57-a3c6-ea510be00edc",
   "metadata": {},
   "source": [
    "- Data Visualization\n",
    "- Seaborn and plotly are created on top of matplotlib\n",
    "- EDA - Exploratory Data Analysis"
   ]
  },
  {
   "cell_type": "markdown",
   "id": "88b0a31c-3324-4056-bdd9-891307d7bdea",
   "metadata": {},
   "source": [
    "## Scikit Learn"
   ]
  },
  {
   "cell_type": "markdown",
   "id": "60286531-cc07-4b3a-85a1-3c15d6366169",
   "metadata": {},
   "source": [
    "- Machine Learning Model / Algorithms\n",
    "- Scientific Kit\n",
    "- Pre-processing"
   ]
  },
  {
   "cell_type": "markdown",
   "id": "fe12e67e-7daa-4396-a5f0-44d491b928aa",
   "metadata": {},
   "source": [
    "## Tensorflow"
   ]
  },
  {
   "cell_type": "markdown",
   "id": "4a25dedf-aa72-4c2e-848f-ded00cad12a2",
   "metadata": {},
   "source": [
    "- Framework created by Google\n",
    "- Deep Learning\n",
    "- Keras with Tensorflow version 1 = Tensorflow 2+"
   ]
  },
  {
   "cell_type": "markdown",
   "id": "89be8df1-3a46-40c8-b51e-5ba2e4711705",
   "metadata": {},
   "source": [
    "## Pytorch"
   ]
  },
  {
   "cell_type": "markdown",
   "id": "21f3ced1-78ff-4c08-a6da-e55dcfa69d22",
   "metadata": {},
   "source": [
    "- Framework created by Facebook/Meta\n",
    "- Deep Learning\n",
    "- Tesla, ChatGPT"
   ]
  },
  {
   "cell_type": "markdown",
   "id": "1d29b34a-7822-47e9-9e03-8b93d29838ae",
   "metadata": {},
   "source": [
    "## NLTK"
   ]
  },
  {
   "cell_type": "markdown",
   "id": "dfa4b465-ef5d-47e8-9c0b-96e6710a26bb",
   "metadata": {},
   "source": [
    "- NLP - Natural Language Processing\n",
    "- Data as Text "
   ]
  },
  {
   "cell_type": "markdown",
   "id": "05d71938-38c7-47c5-b1f6-c5268c7cc002",
   "metadata": {},
   "source": [
    "## LangChain"
   ]
  },
  {
   "cell_type": "markdown",
   "id": "6a24711e-4854-4548-9865-fd99d3d7906e",
   "metadata": {},
   "source": [
    "- LLM - Large Language Model"
   ]
  },
  {
   "cell_type": "markdown",
   "id": "1e28d0c2-7f42-4eaa-bbca-466944216d67",
   "metadata": {},
   "source": [
    "#### pandas 2.2.1"
   ]
  },
  {
   "cell_type": "markdown",
   "id": "66cfe744-e956-4a8f-9491-9a34da16a407",
   "metadata": {},
   "source": [
    "- first 2 - major feature update / syntax updates \n",
    "- second 2 - minor feature\n",
    "- third 1 - bug fixes "
   ]
  },
  {
   "cell_type": "code",
   "execution_count": null,
   "id": "0618a77e-73ef-4d75-a402-c4245f250b06",
   "metadata": {},
   "outputs": [],
   "source": []
  }
 ],
 "metadata": {
  "kernelspec": {
   "display_name": "Python 3 (ipykernel)",
   "language": "python",
   "name": "python3"
  },
  "language_info": {
   "codemirror_mode": {
    "name": "ipython",
    "version": 3
   },
   "file_extension": ".py",
   "mimetype": "text/x-python",
   "name": "python",
   "nbconvert_exporter": "python",
   "pygments_lexer": "ipython3",
   "version": "3.11.5"
  }
 },
 "nbformat": 4,
 "nbformat_minor": 5
}
