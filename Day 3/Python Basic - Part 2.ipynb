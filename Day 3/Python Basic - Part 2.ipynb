{
 "cells": [
  {
   "cell_type": "markdown",
   "id": "e1d76d39-467b-4d25-ac9a-03b8b1320b3a",
   "metadata": {},
   "source": [
    "# Day 3 - Python Basic Part 2"
   ]
  },
  {
   "cell_type": "markdown",
   "id": "1e74413d-0c64-42da-86b1-c10abc0b18f5",
   "metadata": {},
   "source": [
    "- other operators\n",
    "- Loops\n",
    "- Oops concept"
   ]
  },
  {
   "cell_type": "markdown",
   "id": "b3ad0be9-0200-4252-98c6-d12bf7c24814",
   "metadata": {},
   "source": [
    "## Membership Operator - IN"
   ]
  },
  {
   "cell_type": "code",
   "execution_count": 3,
   "id": "e9a32001-9cd3-454b-a356-b630a4317ac8",
   "metadata": {},
   "outputs": [
    {
     "data": {
      "text/plain": [
       "False"
      ]
     },
     "execution_count": 3,
     "metadata": {},
     "output_type": "execute_result"
    }
   ],
   "source": [
    "6 in [1,2,3]"
   ]
  },
  {
   "cell_type": "code",
   "execution_count": 5,
   "id": "4610f43d-4038-4b56-8450-7296eec64fac",
   "metadata": {},
   "outputs": [
    {
     "data": {
      "text/plain": [
       "False"
      ]
     },
     "execution_count": 5,
     "metadata": {},
     "output_type": "execute_result"
    }
   ],
   "source": [
    "'x' in ['x1','y1','z1']"
   ]
  },
  {
   "cell_type": "markdown",
   "id": "8f8f2b26-4673-4b69-9b31-d86e0afe30ec",
   "metadata": {},
   "source": [
    "### NOT - Conditional Operator"
   ]
  },
  {
   "cell_type": "code",
   "execution_count": 7,
   "id": "1666bb94-4814-4117-a397-78171a384994",
   "metadata": {},
   "outputs": [
    {
     "data": {
      "text/plain": [
       "True"
      ]
     },
     "execution_count": 7,
     "metadata": {},
     "output_type": "execute_result"
    }
   ],
   "source": [
    "6 not in [1,2,3]"
   ]
  },
  {
   "cell_type": "markdown",
   "id": "d4b93cdb-cc46-4c55-9dd1-ee0dbcf604a0",
   "metadata": {},
   "source": [
    "## Identity Operator"
   ]
  },
  {
   "cell_type": "markdown",
   "id": "477fb358-0edb-4be8-b7ad-729b90620dac",
   "metadata": {},
   "source": [
    "- IS"
   ]
  },
  {
   "cell_type": "code",
   "execution_count": 14,
   "id": "8480d0ab-fcfb-470f-a227-4335fac15bce",
   "metadata": {},
   "outputs": [
    {
     "name": "stderr",
     "output_type": "stream",
     "text": [
      "<>:1: SyntaxWarning: \"is\" with a literal. Did you mean \"==\"?\n",
      "<>:1: SyntaxWarning: \"is\" with a literal. Did you mean \"==\"?\n",
      "/var/folders/zd/4j5y4mxs0qddsylq3q_l8skw0000gn/T/ipykernel_11021/3069531255.py:1: SyntaxWarning: \"is\" with a literal. Did you mean \"==\"?\n",
      "  \"abc\" is \"abc\"\n"
     ]
    },
    {
     "data": {
      "text/plain": [
       "True"
      ]
     },
     "execution_count": 14,
     "metadata": {},
     "output_type": "execute_result"
    }
   ],
   "source": [
    "\"abc\" is \"abc\""
   ]
  },
  {
   "cell_type": "code",
   "execution_count": 15,
   "id": "55dab0bb-2498-40f8-8a27-01abc5c00f10",
   "metadata": {},
   "outputs": [
    {
     "data": {
      "text/plain": [
       "True"
      ]
     },
     "execution_count": 15,
     "metadata": {},
     "output_type": "execute_result"
    }
   ],
   "source": [
    "\"abc\" == \"abc\""
   ]
  },
  {
   "cell_type": "markdown",
   "id": "e5efea78-0373-4893-a4ff-690ba7ac14e1",
   "metadata": {},
   "source": [
    "## Loops"
   ]
  },
  {
   "cell_type": "markdown",
   "id": "e743ad74-0ebb-4671-bce0-90bedab3d8a5",
   "metadata": {},
   "source": [
    "- Do it again and again\n",
    "- Iterative manner\n",
    "\n",
    "- Types of Loops\n",
    "- \n",
    "i) for\n",
    "ii) while\n",
    "iii) do while (not in python)"
   ]
  },
  {
   "cell_type": "code",
   "execution_count": null,
   "id": "123cdd8f-523d-4138-bee4-d24732d761b2",
   "metadata": {},
   "outputs": [],
   "source": []
  },
  {
   "cell_type": "code",
   "execution_count": 17,
   "id": "8fcc154e-a117-47d0-abed-eb9b80a0960a",
   "metadata": {},
   "outputs": [],
   "source": [
    "# for <iterative_variable> in <list, tuple, dict>:"
   ]
  },
  {
   "cell_type": "code",
   "execution_count": 19,
   "id": "a58e4402-cc1a-43b8-9b8d-07a596799a25",
   "metadata": {},
   "outputs": [],
   "source": [
    "lock = [1,2,3,4,5]"
   ]
  },
  {
   "cell_type": "code",
   "execution_count": 18,
   "id": "e98f8bd2-437b-49ec-8bf1-8a1744b425dd",
   "metadata": {},
   "outputs": [
    {
     "name": "stdout",
     "output_type": "stream",
     "text": [
      "Yep\n",
      "Yep\n",
      "Yep\n",
      "Yep\n",
      "Yep\n"
     ]
    }
   ],
   "source": [
    "for item in seq:\n",
    "    print('Yep')"
   ]
  },
  {
   "cell_type": "code",
   "execution_count": 21,
   "id": "1de5c1f1-49a6-41e1-8fd3-fd97fe568e86",
   "metadata": {},
   "outputs": [
    {
     "name": "stdout",
     "output_type": "stream",
     "text": [
      "Key not present\n",
      "Key not present\n",
      "Key not present\n",
      "Key not present\n",
      "Key not present\n"
     ]
    }
   ],
   "source": [
    "for item in lock:\n",
    "    if item == 9:\n",
    "        print(\"Key found\")\n",
    "    else:\n",
    "        print(\"Key not present\")"
   ]
  },
  {
   "cell_type": "code",
   "execution_count": 22,
   "id": "d2906e60-3dad-4d91-aac8-52b4bac5e37e",
   "metadata": {},
   "outputs": [
    {
     "name": "stdout",
     "output_type": "stream",
     "text": [
      "Not found\n",
      "Not found\n",
      "Found\n",
      "Found\n",
      "Not found\n"
     ]
    }
   ],
   "source": [
    "for i in lock:\n",
    "    if i == 3 or i == 4:\n",
    "        print(\"Found\")\n",
    "    else:\n",
    "        print(\"Not found\")"
   ]
  },
  {
   "cell_type": "code",
   "execution_count": 25,
   "id": "2f4cf0d7-3354-4526-8a29-1f03f176dbe8",
   "metadata": {},
   "outputs": [
    {
     "name": "stdout",
     "output_type": "stream",
     "text": [
      "1\n",
      "4\n",
      "9\n",
      "16\n",
      "25\n"
     ]
    }
   ],
   "source": [
    "for item in seq:\n",
    "    print(item * item)"
   ]
  },
  {
   "cell_type": "markdown",
   "id": "d055069b-42bc-4627-9cd6-b11fb13465d0",
   "metadata": {},
   "source": [
    "- If you know the end limit you can use for\n",
    "- Incase if you don't know the end limit you can use while"
   ]
  },
  {
   "cell_type": "markdown",
   "id": "52e17315-b2d1-41da-acf3-685f2afdab9b",
   "metadata": {},
   "source": [
    "## While Loops"
   ]
  },
  {
   "cell_type": "code",
   "execution_count": 26,
   "id": "ab6e6fc3-fecb-4fde-898c-330fd7a0c531",
   "metadata": {},
   "outputs": [],
   "source": [
    "# i = 0 # variable\n",
    "\n",
    "# while condition:\n",
    "#     logic\n",
    "#     increment the variable"
   ]
  },
  {
   "cell_type": "code",
   "execution_count": 27,
   "id": "95aaeb08-6493-4116-84d6-7ea360d3428c",
   "metadata": {},
   "outputs": [
    {
     "name": "stdout",
     "output_type": "stream",
     "text": [
      "i is: 1\n",
      "i is: 2\n",
      "i is: 3\n",
      "i is: 4\n",
      "i is: 5\n"
     ]
    }
   ],
   "source": [
    "i = 1\n",
    "while i <= 5:\n",
    "    print(f'i is: {i}')\n",
    "    i = i+1"
   ]
  },
  {
   "cell_type": "code",
   "execution_count": null,
   "id": "2b656b64-70de-4e01-9b61-95a407c75b77",
   "metadata": {},
   "outputs": [],
   "source": [
    "while 1<3:\n",
    "    pass # placholder for future reference "
   ]
  },
  {
   "cell_type": "markdown",
   "id": "59bd27cd-6f3a-401c-8d17-d79705d78b8c",
   "metadata": {},
   "source": [
    "## range()"
   ]
  },
  {
   "cell_type": "code",
   "execution_count": 28,
   "id": "f400635c-a519-40b6-8560-c1ade6ba46e8",
   "metadata": {},
   "outputs": [
    {
     "data": {
      "text/plain": [
       "range(0, 5)"
      ]
     },
     "execution_count": 28,
     "metadata": {},
     "output_type": "execute_result"
    }
   ],
   "source": [
    "range(5)"
   ]
  },
  {
   "cell_type": "code",
   "execution_count": 31,
   "id": "eb49a74b-f92d-4b8b-b9d9-898d8102b32e",
   "metadata": {},
   "outputs": [
    {
     "name": "stdout",
     "output_type": "stream",
     "text": [
      "0\n",
      "1\n",
      "2\n",
      "3\n",
      "4\n",
      "5\n",
      "6\n",
      "7\n",
      "8\n",
      "9\n"
     ]
    }
   ],
   "source": [
    "for i in range(10):\n",
    "    print(i)"
   ]
  },
  {
   "cell_type": "code",
   "execution_count": 32,
   "id": "9ab7984d-89c1-4921-bdf6-30658e9e3f3a",
   "metadata": {},
   "outputs": [
    {
     "data": {
      "text/plain": [
       "[0, 1, 2, 3, 4, 5, 6, 7, 8, 9]"
      ]
     },
     "execution_count": 32,
     "metadata": {},
     "output_type": "execute_result"
    }
   ],
   "source": [
    "list(range(10))"
   ]
  },
  {
   "cell_type": "markdown",
   "id": "9d3ad60b-43de-47ff-aa4c-731b68559a14",
   "metadata": {},
   "source": [
    "## List comprehension"
   ]
  },
  {
   "cell_type": "code",
   "execution_count": 33,
   "id": "001b7821-8ae0-44ab-b0d8-9f107837b5f3",
   "metadata": {},
   "outputs": [],
   "source": [
    "x = [1,2,3,4]"
   ]
  },
  {
   "cell_type": "code",
   "execution_count": 37,
   "id": "2af43654-7913-4f35-b685-18d782e89bd6",
   "metadata": {},
   "outputs": [
    {
     "name": "stdout",
     "output_type": "stream",
     "text": [
      "[1, 4, 9, 16]\n"
     ]
    }
   ],
   "source": [
    "result = []\n",
    "\n",
    "for item in x:\n",
    "    result.append(item * item)\n",
    "\n",
    "print(result)"
   ]
  },
  {
   "cell_type": "code",
   "execution_count": 38,
   "id": "45bf74d6-c147-425b-a9fd-d5b70f0fd891",
   "metadata": {},
   "outputs": [
    {
     "data": {
      "text/plain": [
       "[1, 4, 9, 16]"
      ]
     },
     "execution_count": 38,
     "metadata": {},
     "output_type": "execute_result"
    }
   ],
   "source": [
    "[item * item for item in x]"
   ]
  },
  {
   "cell_type": "code",
   "execution_count": 39,
   "id": "ca5d52ca-a52d-499e-ad69-aa91f38589c2",
   "metadata": {},
   "outputs": [
    {
     "data": {
      "text/plain": [
       "[2, 4, 6, 8]"
      ]
     },
     "execution_count": 39,
     "metadata": {},
     "output_type": "execute_result"
    }
   ],
   "source": [
    "[item + item for item in x]"
   ]
  },
  {
   "cell_type": "code",
   "execution_count": 42,
   "id": "7a7c10c0-0362-41e4-a922-9a914de47a6d",
   "metadata": {},
   "outputs": [
    {
     "data": {
      "text/plain": [
       "[4, 8, 12, 16]"
      ]
     },
     "execution_count": 42,
     "metadata": {},
     "output_type": "execute_result"
    }
   ],
   "source": [
    "[item * 4 for item in x]"
   ]
  },
  {
   "cell_type": "markdown",
   "id": "c58cceaa-442f-46cb-b541-27aa5e7385c4",
   "metadata": {},
   "source": [
    "## OOPS - Object Oriented Programming Language"
   ]
  },
  {
   "cell_type": "markdown",
   "id": "a79c7471-0185-4282-8431-46db5a22fbaa",
   "metadata": {},
   "source": [
    "- Classes and Objects\n",
    "- Abstraction\n",
    "- Polymorphism\n",
    "- Inheritance\n",
    "- Encapsulation\n",
    "\n",
    "Class\n",
    "- Template / Blueprint\n",
    "\n",
    "Object\n",
    "- Actual property of the class"
   ]
  },
  {
   "cell_type": "code",
   "execution_count": 43,
   "id": "744f8444-5333-48ae-9ddc-fdd06ee1794c",
   "metadata": {},
   "outputs": [],
   "source": [
    "class ClassName:\n",
    "    pass\n",
    "\n",
    "any_variable = ClassName()"
   ]
  },
  {
   "cell_type": "code",
   "execution_count": 44,
   "id": "82f748e2-8599-427b-8b93-f9deef6a6b02",
   "metadata": {},
   "outputs": [
    {
     "data": {
      "text/plain": [
       "<__main__.ClassName at 0x106265c50>"
      ]
     },
     "execution_count": 44,
     "metadata": {},
     "output_type": "execute_result"
    }
   ],
   "source": [
    "any_variable"
   ]
  },
  {
   "cell_type": "markdown",
   "id": "52c79fcf-51b8-4816-ad82-a01bc3c5972c",
   "metadata": {},
   "source": [
    "## Methods / Functions\n",
    "\n",
    "- Reusability\n",
    "\n",
    "Two types of methods:\n",
    "i) User Defined methods\n",
    "ii) In-built methods"
   ]
  },
  {
   "cell_type": "markdown",
   "id": "68394986-17da-4954-a7b9-cdf7c989b333",
   "metadata": {},
   "source": [
    "## User Defined Methods"
   ]
  },
  {
   "cell_type": "code",
   "execution_count": 46,
   "id": "4a484176-3407-473a-bb5f-fa386295d42e",
   "metadata": {},
   "outputs": [],
   "source": [
    "def function_name():\n",
    "    pass"
   ]
  },
  {
   "cell_type": "code",
   "execution_count": 47,
   "id": "ba3bd6c1-19cf-4555-8211-bd41a9778f69",
   "metadata": {},
   "outputs": [],
   "source": [
    "def adavoi(name):\n",
    "    new = 1\n",
    "    print(f\"Hi {name} this is my third day in the internship\")"
   ]
  },
  {
   "cell_type": "code",
   "execution_count": 49,
   "id": "cd2a476d-937e-477f-992d-ffd1af6b65a3",
   "metadata": {},
   "outputs": [
    {
     "name": "stdout",
     "output_type": "stream",
     "text": [
      "Hi Virat this is my third day in the internship\n"
     ]
    }
   ],
   "source": [
    "adavoi(\"Virat\")"
   ]
  },
  {
   "cell_type": "code",
   "execution_count": 51,
   "id": "0ae76221-18c5-4731-95f7-45d8821e8f5d",
   "metadata": {},
   "outputs": [],
   "source": [
    "def adavoi_custom(name):\n",
    "    if name == 'Dhoni':\n",
    "        return True\n",
    "    else:\n",
    "        return False"
   ]
  },
  {
   "cell_type": "code",
   "execution_count": 56,
   "id": "1250138f-cc8a-4e96-a57a-7b842c1ee427",
   "metadata": {},
   "outputs": [
    {
     "data": {
      "text/plain": [
       "True"
      ]
     },
     "execution_count": 56,
     "metadata": {},
     "output_type": "execute_result"
    }
   ],
   "source": [
    "adavoi_custom('Dhoni')"
   ]
  },
  {
   "cell_type": "markdown",
   "id": "6cde77d1-8f43-4acf-84c4-c60c41ee3a98",
   "metadata": {},
   "source": [
    "## Inbuilt - methods"
   ]
  },
  {
   "cell_type": "code",
   "execution_count": 57,
   "id": "d3b320b9-d20e-462b-9650-62390b4f2c11",
   "metadata": {},
   "outputs": [],
   "source": [
    "st = 'Hello this is a New Course 1234'"
   ]
  },
  {
   "cell_type": "code",
   "execution_count": 61,
   "id": "f035fe2f-2316-46c4-86cf-826cfb6d5db1",
   "metadata": {},
   "outputs": [
    {
     "data": {
      "text/plain": [
       "'Hello this is a New Course 1234'"
      ]
     },
     "execution_count": 61,
     "metadata": {},
     "output_type": "execute_result"
    }
   ],
   "source": [
    "st"
   ]
  },
  {
   "cell_type": "code",
   "execution_count": 58,
   "id": "912a731d-a0eb-4cd2-9063-1c48dd273f2c",
   "metadata": {},
   "outputs": [
    {
     "data": {
      "text/plain": [
       "'hello this is a new course 1234'"
      ]
     },
     "execution_count": 58,
     "metadata": {},
     "output_type": "execute_result"
    }
   ],
   "source": [
    "st.lower()"
   ]
  },
  {
   "cell_type": "code",
   "execution_count": 59,
   "id": "fe7622c1-0d52-478c-b31b-1fbc50ff48b2",
   "metadata": {},
   "outputs": [
    {
     "data": {
      "text/plain": [
       "'HELLO THIS IS A NEW COURSE 1234'"
      ]
     },
     "execution_count": 59,
     "metadata": {},
     "output_type": "execute_result"
    }
   ],
   "source": [
    "st.upper()"
   ]
  },
  {
   "cell_type": "code",
   "execution_count": 66,
   "id": "a555e14f-ceac-4703-8e45-b7c51ab8e320",
   "metadata": {},
   "outputs": [],
   "source": [
    "res = st.split()"
   ]
  },
  {
   "cell_type": "code",
   "execution_count": 67,
   "id": "7b79b100-3f6b-4898-a28f-96650cb8f0b9",
   "metadata": {},
   "outputs": [
    {
     "data": {
      "text/plain": [
       "['Hello', 'this', 'is', 'a', 'New', 'Course', '1234']"
      ]
     },
     "execution_count": 67,
     "metadata": {},
     "output_type": "execute_result"
    }
   ],
   "source": [
    "res"
   ]
  },
  {
   "cell_type": "code",
   "execution_count": 69,
   "id": "09861915-2bed-43cd-a85d-4adb842316e6",
   "metadata": {},
   "outputs": [
    {
     "data": {
      "text/plain": [
       "'New'"
      ]
     },
     "execution_count": 69,
     "metadata": {},
     "output_type": "execute_result"
    }
   ],
   "source": [
    "res[4]"
   ]
  },
  {
   "cell_type": "code",
   "execution_count": 62,
   "id": "e70a1c45-b8f5-48a5-8165-63ca741f3c36",
   "metadata": {},
   "outputs": [],
   "source": [
    "tweet = 'Go Sports! #Sports'"
   ]
  },
  {
   "cell_type": "code",
   "execution_count": 63,
   "id": "56fd510f-0a77-4c20-b6ba-0ef9d466f905",
   "metadata": {},
   "outputs": [
    {
     "data": {
      "text/plain": [
       "['Go Sports! ', 'Sports']"
      ]
     },
     "execution_count": 63,
     "metadata": {},
     "output_type": "execute_result"
    }
   ],
   "source": [
    "tweet.split(\"#\")"
   ]
  },
  {
   "cell_type": "code",
   "execution_count": 65,
   "id": "9dc368e2-02f1-42fb-b5d3-67b547a6f57f",
   "metadata": {},
   "outputs": [
    {
     "data": {
      "text/plain": [
       "'Go Sports! '"
      ]
     },
     "execution_count": 65,
     "metadata": {},
     "output_type": "execute_result"
    }
   ],
   "source": [
    "tweet.split('#')[0]"
   ]
  },
  {
   "cell_type": "markdown",
   "id": "c4581e81-83d7-47a4-a7ae-28ccaf03e096",
   "metadata": {},
   "source": [
    "## Inbuilt methods for Dictionary"
   ]
  },
  {
   "cell_type": "code",
   "execution_count": 70,
   "id": "c34a7666-e1d2-49c5-b311-5bcf1a1cfaea",
   "metadata": {},
   "outputs": [],
   "source": [
    "d = {'key1':'value1','key2':'value2'}"
   ]
  },
  {
   "cell_type": "code",
   "execution_count": 71,
   "id": "c0f4d62e-3a34-4b84-9290-c40ce749aa5d",
   "metadata": {},
   "outputs": [
    {
     "data": {
      "text/plain": [
       "{'key1': 'value1', 'key2': 'value2'}"
      ]
     },
     "execution_count": 71,
     "metadata": {},
     "output_type": "execute_result"
    }
   ],
   "source": [
    "d"
   ]
  },
  {
   "cell_type": "code",
   "execution_count": 72,
   "id": "8cce3de3-cb59-4df9-b69f-4c5a44d029a4",
   "metadata": {},
   "outputs": [
    {
     "data": {
      "text/plain": [
       "dict_keys(['key1', 'key2'])"
      ]
     },
     "execution_count": 72,
     "metadata": {},
     "output_type": "execute_result"
    }
   ],
   "source": [
    "d.keys()"
   ]
  },
  {
   "cell_type": "code",
   "execution_count": 73,
   "id": "264ee717-bc92-44c8-ad3b-be5e9b499f48",
   "metadata": {},
   "outputs": [
    {
     "data": {
      "text/plain": [
       "dict_values(['value1', 'value2'])"
      ]
     },
     "execution_count": 73,
     "metadata": {},
     "output_type": "execute_result"
    }
   ],
   "source": [
    "d.values()"
   ]
  },
  {
   "cell_type": "code",
   "execution_count": 74,
   "id": "06c227b6-f29f-4a25-9e7d-6246e3b0b73b",
   "metadata": {},
   "outputs": [
    {
     "data": {
      "text/plain": [
       "dict_items([('key1', 'value1'), ('key2', 'value2')])"
      ]
     },
     "execution_count": 74,
     "metadata": {},
     "output_type": "execute_result"
    }
   ],
   "source": [
    "d.items()"
   ]
  },
  {
   "cell_type": "markdown",
   "id": "de0a7920-4194-4721-a131-1fe81e77831a",
   "metadata": {},
   "source": [
    "## Inbuilt methods for List"
   ]
  },
  {
   "cell_type": "code",
   "execution_count": 81,
   "id": "16a84291-8c92-485d-974e-123a4418d02b",
   "metadata": {},
   "outputs": [],
   "source": [
    "lst = [1,2,3]"
   ]
  },
  {
   "cell_type": "code",
   "execution_count": 82,
   "id": "860bf958-82ec-412a-89c0-b32e36650eca",
   "metadata": {},
   "outputs": [
    {
     "data": {
      "text/plain": [
       "[1, 2, 3]"
      ]
     },
     "execution_count": 82,
     "metadata": {},
     "output_type": "execute_result"
    }
   ],
   "source": [
    "lst"
   ]
  },
  {
   "cell_type": "code",
   "execution_count": 83,
   "id": "2a7fd692-2af4-420c-b5cd-92d03be431b8",
   "metadata": {},
   "outputs": [
    {
     "data": {
      "text/plain": [
       "3"
      ]
     },
     "execution_count": 83,
     "metadata": {},
     "output_type": "execute_result"
    }
   ],
   "source": [
    "lst.pop()"
   ]
  },
  {
   "cell_type": "code",
   "execution_count": 84,
   "id": "339b7011-b925-475d-bcc6-409e6c51493e",
   "metadata": {},
   "outputs": [
    {
     "data": {
      "text/plain": [
       "[1, 2]"
      ]
     },
     "execution_count": 84,
     "metadata": {},
     "output_type": "execute_result"
    }
   ],
   "source": [
    "lst"
   ]
  },
  {
   "cell_type": "code",
   "execution_count": 89,
   "id": "361666e8-d179-4779-a890-63cf6de418b9",
   "metadata": {},
   "outputs": [],
   "source": [
    "lst.append(8)"
   ]
  },
  {
   "cell_type": "code",
   "execution_count": 90,
   "id": "119c6a25-64f8-4493-bbd8-1ff6d0b0fc74",
   "metadata": {},
   "outputs": [
    {
     "data": {
      "text/plain": [
       "[1, 2, 4, 6, 8]"
      ]
     },
     "execution_count": 90,
     "metadata": {},
     "output_type": "execute_result"
    }
   ],
   "source": [
    "lst"
   ]
  },
  {
   "cell_type": "code",
   "execution_count": 91,
   "id": "1996a922-10c6-4b52-84bf-5986fe506bed",
   "metadata": {},
   "outputs": [
    {
     "data": {
      "text/plain": [
       "8"
      ]
     },
     "execution_count": 91,
     "metadata": {},
     "output_type": "execute_result"
    }
   ],
   "source": [
    "lst.pop(4)"
   ]
  },
  {
   "cell_type": "code",
   "execution_count": 94,
   "id": "ac765b0c-93b3-4daa-81f6-0001c658bf17",
   "metadata": {},
   "outputs": [
    {
     "data": {
      "text/plain": [
       "[2, 4, 6]"
      ]
     },
     "execution_count": 94,
     "metadata": {},
     "output_type": "execute_result"
    }
   ],
   "source": [
    "lst"
   ]
  },
  {
   "cell_type": "code",
   "execution_count": 93,
   "id": "af37d9eb-8ca6-4824-9c51-aa925397da80",
   "metadata": {},
   "outputs": [
    {
     "data": {
      "text/plain": [
       "1"
      ]
     },
     "execution_count": 93,
     "metadata": {},
     "output_type": "execute_result"
    }
   ],
   "source": [
    "lst.pop(0)"
   ]
  },
  {
   "cell_type": "code",
   "execution_count": null,
   "id": "4608ef3e-0de4-499f-95d0-aea24311b9d7",
   "metadata": {},
   "outputs": [],
   "source": []
  }
 ],
 "metadata": {
  "kernelspec": {
   "display_name": "Python 3 (ipykernel)",
   "language": "python",
   "name": "python3"
  },
  "language_info": {
   "codemirror_mode": {
    "name": "ipython",
    "version": 3
   },
   "file_extension": ".py",
   "mimetype": "text/x-python",
   "name": "python",
   "nbconvert_exporter": "python",
   "pygments_lexer": "ipython3",
   "version": "3.11.5"
  }
 },
 "nbformat": 4,
 "nbformat_minor": 5
}
